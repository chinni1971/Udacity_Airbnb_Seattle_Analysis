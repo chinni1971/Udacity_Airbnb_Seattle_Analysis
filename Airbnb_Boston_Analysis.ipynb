{
 "cells": [
  {
   "cell_type": "code",
   "execution_count": 1,
   "id": "exciting-cargo",
   "metadata": {},
   "outputs": [],
   "source": [
    "import pandas as pd"
   ]
  },
  {
   "cell_type": "code",
   "execution_count": 2,
   "id": "velvet-geometry",
   "metadata": {},
   "outputs": [],
   "source": [
    "def remove_currency_signs(df, col):\n",
    "    \"\"\"Remove dollar sign and thousand separator.\"\"\"\n",
    "    df[col] = df[col].str.replace('$', '', regex=False)\n",
    "    df[col] = df[col].str.replace(',', '')"
   ]
  },
  {
   "cell_type": "code",
   "execution_count": 3,
   "id": "regular-reaction",
   "metadata": {},
   "outputs": [],
   "source": [
    "def convert_to_bool(df, col):\n",
    "    \"\"\"Convert object columns to boolean.\"\"\"\n",
    "    df[col] = df[col].replace({'f': 0, 't': 1})\n",
    "    df[col] = df[col].astype(bool)"
   ]
  },
  {
   "cell_type": "markdown",
   "id": "passive-combat",
   "metadata": {},
   "source": [
    "## `calendar_cleaned`"
   ]
  },
  {
   "cell_type": "code",
   "execution_count": 4,
   "id": "marine-lewis",
   "metadata": {},
   "outputs": [],
   "source": [
    "calendar = pd.read_csv('data/Boston/calendar.csv')"
   ]
  },
  {
   "cell_type": "code",
   "execution_count": 5,
   "id": "tight-individual",
   "metadata": {},
   "outputs": [],
   "source": [
    "calendar_cleaned = calendar.copy()"
   ]
  },
  {
   "cell_type": "code",
   "execution_count": 6,
   "id": "mysterious-hollywood",
   "metadata": {},
   "outputs": [],
   "source": [
    "calendar_cleaned['date'] = pd.to_datetime(calendar_cleaned['date'])\n",
    "\n",
    "convert_to_bool(calendar_cleaned, 'available')\n",
    "\n",
    "remove_currency_signs(calendar_cleaned, 'price')\n",
    "calendar_cleaned['price'] = calendar_cleaned['price'].astype(float)"
   ]
  },
  {
   "cell_type": "code",
   "execution_count": 7,
   "id": "appreciated-mercury",
   "metadata": {},
   "outputs": [],
   "source": [
    "calendar_cleaned.to_csv('data/Boston/cleaned_calendar.csv', index=False)"
   ]
  },
  {
   "cell_type": "code",
   "execution_count": 8,
   "id": "satellite-township",
   "metadata": {
    "scrolled": true
   },
   "outputs": [
    {
     "data": {
      "text/html": [
       "<div>\n",
       "<style scoped>\n",
       "    .dataframe tbody tr th:only-of-type {\n",
       "        vertical-align: middle;\n",
       "    }\n",
       "\n",
       "    .dataframe tbody tr th {\n",
       "        vertical-align: top;\n",
       "    }\n",
       "\n",
       "    .dataframe thead th {\n",
       "        text-align: right;\n",
       "    }\n",
       "</style>\n",
       "<table border=\"1\" class=\"dataframe\">\n",
       "  <thead>\n",
       "    <tr style=\"text-align: right;\">\n",
       "      <th></th>\n",
       "      <th>listing_id</th>\n",
       "      <th>date</th>\n",
       "      <th>available</th>\n",
       "      <th>price</th>\n",
       "    </tr>\n",
       "  </thead>\n",
       "  <tbody>\n",
       "    <tr>\n",
       "      <th>0</th>\n",
       "      <td>12147973</td>\n",
       "      <td>2017-09-05</td>\n",
       "      <td>False</td>\n",
       "      <td>NaN</td>\n",
       "    </tr>\n",
       "    <tr>\n",
       "      <th>1</th>\n",
       "      <td>12147973</td>\n",
       "      <td>2017-09-04</td>\n",
       "      <td>False</td>\n",
       "      <td>NaN</td>\n",
       "    </tr>\n",
       "    <tr>\n",
       "      <th>2</th>\n",
       "      <td>12147973</td>\n",
       "      <td>2017-09-03</td>\n",
       "      <td>False</td>\n",
       "      <td>NaN</td>\n",
       "    </tr>\n",
       "    <tr>\n",
       "      <th>3</th>\n",
       "      <td>12147973</td>\n",
       "      <td>2017-09-02</td>\n",
       "      <td>False</td>\n",
       "      <td>NaN</td>\n",
       "    </tr>\n",
       "    <tr>\n",
       "      <th>4</th>\n",
       "      <td>12147973</td>\n",
       "      <td>2017-09-01</td>\n",
       "      <td>False</td>\n",
       "      <td>NaN</td>\n",
       "    </tr>\n",
       "    <tr>\n",
       "      <th>...</th>\n",
       "      <td>...</td>\n",
       "      <td>...</td>\n",
       "      <td>...</td>\n",
       "      <td>...</td>\n",
       "    </tr>\n",
       "    <tr>\n",
       "      <th>1308885</th>\n",
       "      <td>14504422</td>\n",
       "      <td>2016-09-10</td>\n",
       "      <td>False</td>\n",
       "      <td>NaN</td>\n",
       "    </tr>\n",
       "    <tr>\n",
       "      <th>1308886</th>\n",
       "      <td>14504422</td>\n",
       "      <td>2016-09-09</td>\n",
       "      <td>False</td>\n",
       "      <td>NaN</td>\n",
       "    </tr>\n",
       "    <tr>\n",
       "      <th>1308887</th>\n",
       "      <td>14504422</td>\n",
       "      <td>2016-09-08</td>\n",
       "      <td>False</td>\n",
       "      <td>NaN</td>\n",
       "    </tr>\n",
       "    <tr>\n",
       "      <th>1308888</th>\n",
       "      <td>14504422</td>\n",
       "      <td>2016-09-07</td>\n",
       "      <td>False</td>\n",
       "      <td>NaN</td>\n",
       "    </tr>\n",
       "    <tr>\n",
       "      <th>1308889</th>\n",
       "      <td>14504422</td>\n",
       "      <td>2016-09-06</td>\n",
       "      <td>False</td>\n",
       "      <td>NaN</td>\n",
       "    </tr>\n",
       "  </tbody>\n",
       "</table>\n",
       "<p>1308890 rows × 4 columns</p>\n",
       "</div>"
      ],
      "text/plain": [
       "         listing_id       date  available  price\n",
       "0          12147973 2017-09-05      False    NaN\n",
       "1          12147973 2017-09-04      False    NaN\n",
       "2          12147973 2017-09-03      False    NaN\n",
       "3          12147973 2017-09-02      False    NaN\n",
       "4          12147973 2017-09-01      False    NaN\n",
       "...             ...        ...        ...    ...\n",
       "1308885    14504422 2016-09-10      False    NaN\n",
       "1308886    14504422 2016-09-09      False    NaN\n",
       "1308887    14504422 2016-09-08      False    NaN\n",
       "1308888    14504422 2016-09-07      False    NaN\n",
       "1308889    14504422 2016-09-06      False    NaN\n",
       "\n",
       "[1308890 rows x 4 columns]"
      ]
     },
     "execution_count": 8,
     "metadata": {},
     "output_type": "execute_result"
    }
   ],
   "source": [
    "calendar_cleaned"
   ]
  },
  {
   "cell_type": "markdown",
   "id": "functional-profit",
   "metadata": {},
   "source": [
    "### `listings_cleaned`"
   ]
  },
  {
   "cell_type": "code",
   "execution_count": 9,
   "id": "tight-official",
   "metadata": {},
   "outputs": [],
   "source": [
    "listings = pd.read_csv('data/Boston/listings.csv')"
   ]
  },
  {
   "cell_type": "code",
   "execution_count": 10,
   "id": "collect-gardening",
   "metadata": {},
   "outputs": [
    {
     "data": {
      "text/plain": [
       "3585"
      ]
     },
     "execution_count": 10,
     "metadata": {},
     "output_type": "execute_result"
    }
   ],
   "source": [
    "listings.shape[0]"
   ]
  },
  {
   "cell_type": "code",
   "execution_count": 11,
   "id": "loaded-accuracy",
   "metadata": {},
   "outputs": [],
   "source": [
    "listings_short = listings.copy()\n",
    "drop_cols = ['listing_url', 'scrape_id', 'last_scraped', 'name', 'space', 'experiences_offered', \n",
    "             'neighborhood_overview', 'notes', 'transit', 'thumbnail_url', 'medium_url', 'picture_url', \n",
    "             'xl_picture_url', 'host_url', 'host_name', 'host_location', 'host_about', 'host_thumbnail_url', \n",
    "             'host_picture_url', 'host_neighbourhood', 'host_listings_count', 'host_total_listings_count', \n",
    "             'host_verifications', 'host_has_profile_pic', 'street', 'neighbourhood', 'neighbourhood_group_cleansed', \n",
    "             'city', 'state', 'zipcode', 'market', 'smart_location', 'country_code', 'country', 'latitude', \n",
    "             'longitude', 'is_location_exact', 'bathrooms', 'beds', 'bed_type', 'square_feet', \n",
    "             'guests_included', 'extra_people', 'maximum_nights', 'calendar_updated', 'has_availability', \n",
    "             'availability_30', 'availability_60', 'availability_90', 'availability_365', \n",
    "             'calendar_last_scraped', 'requires_license', 'license', 'jurisdiction_names', \n",
    "             'require_guest_profile_picture', 'require_guest_phone_verification', 'calculated_host_listings_count']\n",
    "listings_short.drop(drop_cols, axis=1, inplace=True)"
   ]
  },
  {
   "cell_type": "code",
   "execution_count": 12,
   "id": "documented-glance",
   "metadata": {},
   "outputs": [],
   "source": [
    "listings_cleaned = listings_short.copy()"
   ]
  },
  {
   "cell_type": "code",
   "execution_count": 13,
   "id": "fallen-failing",
   "metadata": {},
   "outputs": [],
   "source": [
    "listings_cleaned.drop(['summary', 'host_acceptance_rate'], axis=1, inplace=True)"
   ]
  },
  {
   "cell_type": "code",
   "execution_count": 14,
   "id": "peripheral-detector",
   "metadata": {},
   "outputs": [],
   "source": [
    "index = listings_short[listings_short.property_type.isnull()].index\n",
    "listings_short.loc[index, 'property_type'] = 'Other'"
   ]
  },
  {
   "cell_type": "code",
   "execution_count": 15,
   "id": "interstate-notebook",
   "metadata": {},
   "outputs": [],
   "source": [
    "listings_cleaned['bedrooms'].fillna(1, inplace=True)\n",
    "listings_cleaned['bedrooms'] = listings_cleaned['bedrooms'].astype(int)"
   ]
  },
  {
   "cell_type": "code",
   "execution_count": 16,
   "id": "southeast-engine",
   "metadata": {},
   "outputs": [],
   "source": [
    "index = listings_short[listings_short.bedrooms == 0].index\n",
    "listings_short.loc[index, 'bedrooms'] = 1"
   ]
  },
  {
   "cell_type": "code",
   "execution_count": 17,
   "id": "naked-candle",
   "metadata": {},
   "outputs": [],
   "source": [
    "listings_cleaned.drop(listings_cleaned[listings_cleaned.review_scores_accuracy.isnull()].index, inplace=True)\n",
    "listings_cleaned.drop(listings_cleaned[listings_cleaned.review_scores_location.isnull()].index, inplace=True)\n",
    "listings_cleaned.drop(listings_cleaned[listings_cleaned.review_scores_rating.isnull()].index, inplace=True)\n",
    "listings_cleaned.drop(listings_cleaned[listings_cleaned.host_response_time.isnull()].index, inplace=True)"
   ]
  },
  {
   "cell_type": "code",
   "execution_count": 18,
   "id": "australian-rider",
   "metadata": {},
   "outputs": [],
   "source": [
    "listings_cleaned.drop(['weekly_price', 'monthly_price', 'security_deposit', 'cleaning_fee',\n",
    "                       'access', 'interaction', 'house_rules'], axis=1, inplace=True)"
   ]
  },
  {
   "cell_type": "code",
   "execution_count": 19,
   "id": "seventh-liver",
   "metadata": {
    "scrolled": true
   },
   "outputs": [
    {
     "data": {
      "text/plain": [
       "id                             0\n",
       "description                    0\n",
       "host_id                        0\n",
       "host_since                     0\n",
       "host_response_time             0\n",
       "host_response_rate             0\n",
       "host_is_superhost              0\n",
       "host_identity_verified         0\n",
       "neighbourhood_cleansed         0\n",
       "property_type                  2\n",
       "room_type                      0\n",
       "accommodates                   0\n",
       "bedrooms                       0\n",
       "amenities                      0\n",
       "price                          0\n",
       "minimum_nights                 0\n",
       "number_of_reviews              0\n",
       "first_review                   0\n",
       "last_review                    0\n",
       "review_scores_rating           0\n",
       "review_scores_accuracy         0\n",
       "review_scores_cleanliness      0\n",
       "review_scores_checkin          0\n",
       "review_scores_communication    0\n",
       "review_scores_location         0\n",
       "review_scores_value            0\n",
       "instant_bookable               0\n",
       "cancellation_policy            0\n",
       "reviews_per_month              0\n",
       "dtype: int64"
      ]
     },
     "execution_count": 19,
     "metadata": {},
     "output_type": "execute_result"
    }
   ],
   "source": [
    "listings_cleaned.isnull().sum()"
   ]
  },
  {
   "cell_type": "code",
   "execution_count": 20,
   "id": "worst-glossary",
   "metadata": {},
   "outputs": [
    {
     "data": {
      "text/plain": [
       "(2541, 29)"
      ]
     },
     "execution_count": 20,
     "metadata": {},
     "output_type": "execute_result"
    }
   ],
   "source": [
    "listings_cleaned.shape"
   ]
  },
  {
   "cell_type": "markdown",
   "id": "statutory-motivation",
   "metadata": {},
   "source": [
    "**Summary:**\n",
    "\n",
    "* *neighbourhood_cleansed* remains since it is the only one of the three without missing values\n",
    "* missing values in *property_type* integrated in category *Other*\n",
    "* replace NaN and 0 bedrooms with 1 \n",
    "* drop Boston-specific columns *access*, *interaction* and *house_rules*\n",
    "* drop columns *weekly_price*, *monthly_price*, *security_deposit* and *cleaning_fee* due to large amount of missing values\n",
    "* drop rows with missing values for all host- and review-related columns"
   ]
  },
  {
   "cell_type": "code",
   "execution_count": 21,
   "id": "weird-generic",
   "metadata": {},
   "outputs": [],
   "source": [
    "listings_cleaned.to_csv('data/Boston/cleaned_listings.csv', index=False)"
   ]
  },
  {
   "cell_type": "code",
   "execution_count": null,
   "id": "atomic-specific",
   "metadata": {},
   "outputs": [],
   "source": []
  }
 ],
 "metadata": {
  "kernelspec": {
   "display_name": "Python 3",
   "language": "python",
   "name": "python3"
  },
  "language_info": {
   "codemirror_mode": {
    "name": "ipython",
    "version": 3
   },
   "file_extension": ".py",
   "mimetype": "text/x-python",
   "name": "python",
   "nbconvert_exporter": "python",
   "pygments_lexer": "ipython3",
   "version": "3.9.2"
  }
 },
 "nbformat": 4,
 "nbformat_minor": 5
}
